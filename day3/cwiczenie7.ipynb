{
 "cells": [
  {
   "metadata": {
    "ExecuteTime": {
     "end_time": "2025-08-27T12:45:53.426388Z",
     "start_time": "2025-08-27T12:45:45.500392Z"
    }
   },
   "cell_type": "code",
   "source": [
    "from idlelib.iomenu import encoding\n",
    "!pip install dask\n",
    "!pip install pyarrow\n",
    "!pip install numpy\n",
    "!pip install pandas\n",
    "!pip install polars"
   ],
   "id": "a536f03b328b499e",
   "outputs": [
    {
     "name": "stdout",
     "output_type": "stream",
     "text": [
      "Requirement already satisfied: dask in c:\\users\\cscomarch\\pycharmprojects\\pythonproject\\.venv\\lib\\site-packages (2025.7.0)\n",
      "Requirement already satisfied: click>=8.1 in c:\\users\\cscomarch\\pycharmprojects\\pythonproject\\.venv\\lib\\site-packages (from dask) (8.2.1)\n",
      "Requirement already satisfied: cloudpickle>=3.0.0 in c:\\users\\cscomarch\\pycharmprojects\\pythonproject\\.venv\\lib\\site-packages (from dask) (3.1.1)\n",
      "Requirement already satisfied: fsspec>=2021.09.0 in c:\\users\\cscomarch\\pycharmprojects\\pythonproject\\.venv\\lib\\site-packages (from dask) (2025.7.0)\n",
      "Requirement already satisfied: packaging>=20.0 in c:\\users\\cscomarch\\pycharmprojects\\pythonproject\\.venv\\lib\\site-packages (from dask) (25.0)\n",
      "Requirement already satisfied: partd>=1.4.0 in c:\\users\\cscomarch\\pycharmprojects\\pythonproject\\.venv\\lib\\site-packages (from dask) (1.4.2)\n",
      "Requirement already satisfied: pyyaml>=5.3.1 in c:\\users\\cscomarch\\pycharmprojects\\pythonproject\\.venv\\lib\\site-packages (from dask) (6.0.2)\n",
      "Requirement already satisfied: toolz>=0.10.0 in c:\\users\\cscomarch\\pycharmprojects\\pythonproject\\.venv\\lib\\site-packages (from dask) (1.0.0)\n",
      "Requirement already satisfied: colorama in c:\\users\\cscomarch\\pycharmprojects\\pythonproject\\.venv\\lib\\site-packages (from click>=8.1->dask) (0.4.6)\n",
      "Requirement already satisfied: locket in c:\\users\\cscomarch\\pycharmprojects\\pythonproject\\.venv\\lib\\site-packages (from partd>=1.4.0->dask) (1.0.0)\n"
     ]
    },
    {
     "name": "stderr",
     "output_type": "stream",
     "text": [
      "\n",
      "[notice] A new release of pip is available: 25.1.1 -> 25.2\n",
      "[notice] To update, run: python.exe -m pip install --upgrade pip\n"
     ]
    },
    {
     "name": "stdout",
     "output_type": "stream",
     "text": [
      "Requirement already satisfied: pyarrow in c:\\users\\cscomarch\\pycharmprojects\\pythonproject\\.venv\\lib\\site-packages (21.0.0)\n"
     ]
    },
    {
     "name": "stderr",
     "output_type": "stream",
     "text": [
      "\n",
      "[notice] A new release of pip is available: 25.1.1 -> 25.2\n",
      "[notice] To update, run: python.exe -m pip install --upgrade pip\n"
     ]
    },
    {
     "name": "stdout",
     "output_type": "stream",
     "text": [
      "Requirement already satisfied: numpy in c:\\users\\cscomarch\\pycharmprojects\\pythonproject\\.venv\\lib\\site-packages (2.0.2)\n"
     ]
    },
    {
     "name": "stderr",
     "output_type": "stream",
     "text": [
      "\n",
      "[notice] A new release of pip is available: 25.1.1 -> 25.2\n",
      "[notice] To update, run: python.exe -m pip install --upgrade pip\n"
     ]
    },
    {
     "name": "stdout",
     "output_type": "stream",
     "text": [
      "Requirement already satisfied: pandas in c:\\users\\cscomarch\\pycharmprojects\\pythonproject\\.venv\\lib\\site-packages (2.3.2)\n",
      "Requirement already satisfied: numpy>=1.26.0 in c:\\users\\cscomarch\\pycharmprojects\\pythonproject\\.venv\\lib\\site-packages (from pandas) (2.0.2)\n",
      "Requirement already satisfied: python-dateutil>=2.8.2 in c:\\users\\cscomarch\\pycharmprojects\\pythonproject\\.venv\\lib\\site-packages (from pandas) (2.9.0.post0)\n",
      "Requirement already satisfied: pytz>=2020.1 in c:\\users\\cscomarch\\pycharmprojects\\pythonproject\\.venv\\lib\\site-packages (from pandas) (2025.2)\n",
      "Requirement already satisfied: tzdata>=2022.7 in c:\\users\\cscomarch\\pycharmprojects\\pythonproject\\.venv\\lib\\site-packages (from pandas) (2025.2)\n",
      "Requirement already satisfied: six>=1.5 in c:\\users\\cscomarch\\pycharmprojects\\pythonproject\\.venv\\lib\\site-packages (from python-dateutil>=2.8.2->pandas) (1.17.0)\n"
     ]
    },
    {
     "name": "stderr",
     "output_type": "stream",
     "text": [
      "\n",
      "[notice] A new release of pip is available: 25.1.1 -> 25.2\n",
      "[notice] To update, run: python.exe -m pip install --upgrade pip\n"
     ]
    },
    {
     "name": "stdout",
     "output_type": "stream",
     "text": [
      "Requirement already satisfied: polars in c:\\users\\cscomarch\\pycharmprojects\\pythonproject\\.venv\\lib\\site-packages (1.32.3)\n"
     ]
    },
    {
     "name": "stderr",
     "output_type": "stream",
     "text": [
      "\n",
      "[notice] A new release of pip is available: 25.1.1 -> 25.2\n",
      "[notice] To update, run: python.exe -m pip install --upgrade pip\n"
     ]
    }
   ],
   "execution_count": 4
  },
  {
   "metadata": {
    "ExecuteTime": {
     "end_time": "2025-08-27T12:45:53.436827Z",
     "start_time": "2025-08-27T12:45:53.433400Z"
    }
   },
   "cell_type": "code",
   "source": [
    "import dask.dataframe as dd\n",
    "import polars as pl\n",
    "import numpy as np\n",
    "import os\n",
    "import pandas as pd"
   ],
   "id": "2b4140a5713b31ee",
   "outputs": [],
   "execution_count": 5
  },
  {
   "metadata": {},
   "cell_type": "markdown",
   "source": "### Wygenerowanie duzego pliku",
   "id": "ac059fada8540a47"
  },
  {
   "metadata": {
    "ExecuteTime": {
     "end_time": "2025-08-27T12:48:03.947340Z",
     "start_time": "2025-08-27T12:47:59.441480Z"
    }
   },
   "cell_type": "code",
   "source": [
    "rows_per_chunk = 1_000_000\n",
    "total_rows = 10_000_000  # ok. 10GB\n",
    "filename = \"bigfile_polars.csv\"\n",
    "categories = np.array(['A', 'B', 'C', 'D'])\n",
    "np.random.seed(42)\n",
    "\n",
    "# Usuń plik, jeśli istnieje\n",
    "if os.path.exists(filename):\n",
    "    os.remove(filename)\n",
    "\n",
    "for i, start in enumerate(range(0, total_rows, rows_per_chunk)):\n",
    "    end = min(start + rows_per_chunk, total_rows)\n",
    "    n_rows = end - start\n",
    "    data = {\n",
    "        \"value\": np.random.randint(0, 10_000, size=n_rows),\n",
    "        \"category\": np.random.choice(categories, size=n_rows)\n",
    "    }\n",
    "    df = pl.DataFrame(data)\n",
    "    if i == 0:\n",
    "        df.write_csv(filename)\n",
    "    else:\n",
    "        with open(filename, \"a\", encoding='utf-8') as f:\n",
    "            df.write_csv(f, include_header=False)\n",
    "    print(f\"Zapisano wiersze {start} - {end}\")\n",
    "\n",
    "print(\"Zrobione!\")"
   ],
   "id": "7c1250f958b3fe20",
   "outputs": [
    {
     "name": "stdout",
     "output_type": "stream",
     "text": [
      "Zapisano wiersze 0 - 1000000\n",
      "Zapisano wiersze 1000000 - 2000000\n",
      "Zapisano wiersze 2000000 - 3000000\n",
      "Zapisano wiersze 3000000 - 4000000\n",
      "Zapisano wiersze 4000000 - 5000000\n",
      "Zapisano wiersze 5000000 - 6000000\n",
      "Zapisano wiersze 6000000 - 7000000\n",
      "Zapisano wiersze 7000000 - 8000000\n",
      "Zapisano wiersze 8000000 - 9000000\n",
      "Zapisano wiersze 9000000 - 10000000\n",
      "Zrobione!\n"
     ]
    }
   ],
   "execution_count": 9
  },
  {
   "metadata": {},
   "cell_type": "markdown",
   "source": "## Sprawdzenie różnic wydajności",
   "id": "a809b9b89836044a"
  },
  {
   "metadata": {
    "ExecuteTime": {
     "end_time": "2025-08-27T12:48:16.822812Z",
     "start_time": "2025-08-27T12:48:10.178489Z"
    }
   },
   "cell_type": "code",
   "source": [
    "# Pandas\n",
    "import time\n",
    "import dask.dataframe as dd\n",
    "import time\n",
    "import polars as pl\n",
    "import time\n",
    "\n",
    "import pandas as pd\n",
    "import time\n",
    "\n",
    "filename = \"bigfile_polars.csv\"\n",
    "#############\n",
    "start = time.time()\n",
    "df = pd.read_csv(filename)\n",
    "mean = df[\"value\"].mean()\n",
    "print(\"Pandas mean:\", mean)\n",
    "print(\"Czas:\", time.time() - start)\n",
    "\n",
    "start = time.time()\n",
    "result = df.groupby(\"category\")[\"value\"].sum()\n",
    "print(\"Pandas groupby sum:\", result.head())\n",
    "print(\"Czas:\", time.time() - start)\n",
    "\n",
    "###############\n",
    "# polars\n",
    "start = time.time()\n",
    "df = pl.read_csv(filename)\n",
    "mean = df[\"value\"].mean()\n",
    "print(\"Polars mean:\", mean)\n",
    "print(\"Czas:\", time.time() - start)\n",
    "\n",
    "# Polars\n",
    "start = time.time()\n",
    "result = df.group_by(\"category\").agg(pl.col(\"value\").sum())\n",
    "print(\"Polars groupby sum:\", result.head())\n",
    "print(\"Czas:\", time.time() - start)\n",
    "\n",
    "start = time.time()\n",
    "\n",
    "# Lazy scan (nie ładuje całego pliku do RAM)\n",
    "df = pl.scan_csv(filename)\n",
    "\n",
    "# Lazy pipeline, wynik będzie policzony podczas collect()\n",
    "mean = df.select(pl.col(\"value\").mean()).collect()\n",
    "print(\"Polars scan mean:\", mean)\n",
    "\n",
    "print(\"Czas:\", time.time() - start)\n",
    "# Polars\n",
    "start = time.time()\n",
    "result = (\n",
    "    pl.scan_csv(filename)\n",
    "    .group_by(\"category\")\n",
    "    .agg(pl.col(\"value\").sum())\n",
    "    .collect()  # <-- TO JEST KLUCZ!\n",
    ")\n",
    "# print(\"Polars groupby sum:\", result.head())\n",
    "print(\"Polars groupby sum:\")\n",
    "print(\"Czas:\", time.time() - start)\n",
    "\n",
    "####################\n",
    "# dask\n",
    "start = time.time()\n",
    "df = dd.read_csv(filename)\n",
    "mean = df[\"value\"].mean().compute()\n",
    "print(\"Dask mean:\", mean)\n",
    "print(\"Czas:\", time.time() - start)\n"
   ],
   "id": "689534b7cc3c219e",
   "outputs": [
    {
     "name": "stdout",
     "output_type": "stream",
     "text": [
      "Pandas mean: 5001.6439352\n",
      "Czas: 1.3945930004119873\n",
      "Pandas groupby sum: category\n",
      "A    12500570937\n",
      "B    12511713704\n",
      "C    12496685862\n",
      "D    12507468849\n",
      "Name: value, dtype: int64\n",
      "Czas: 0.46700024604797363\n",
      "Polars mean: 5001.6439352\n",
      "Czas: 0.28908419609069824\n",
      "Polars groupby sum: shape: (4, 2)\n",
      "┌──────────┬─────────────┐\n",
      "│ category ┆ value       │\n",
      "│ ---      ┆ ---         │\n",
      "│ str      ┆ i64         │\n",
      "╞══════════╪═════════════╡\n",
      "│ A        ┆ 12500570937 │\n",
      "│ D        ┆ 12507468849 │\n",
      "│ C        ┆ 12496685862 │\n",
      "│ B        ┆ 12511713704 │\n",
      "└──────────┴─────────────┘\n",
      "Czas: 0.1730034351348877\n",
      "Polars scan mean: shape: (1, 1)\n",
      "┌─────────────┐\n",
      "│ value       │\n",
      "│ ---         │\n",
      "│ f64         │\n",
      "╞═════════════╡\n",
      "│ 5001.643935 │\n",
      "└─────────────┘\n",
      "Czas: 0.17600178718566895\n",
      "Polars groupby sum:\n",
      "Czas: 1.6470134258270264\n",
      "Dask mean: 5001.6439352\n",
      "Czas: 2.452009439468384\n"
     ]
    }
   ],
   "execution_count": 10
  }
 ],
 "metadata": {
  "kernelspec": {
   "display_name": "Python 3",
   "language": "python",
   "name": "python3"
  },
  "language_info": {
   "codemirror_mode": {
    "name": "ipython",
    "version": 2
   },
   "file_extension": ".py",
   "mimetype": "text/x-python",
   "name": "python",
   "nbconvert_exporter": "python",
   "pygments_lexer": "ipython2",
   "version": "2.7.6"
  }
 },
 "nbformat": 4,
 "nbformat_minor": 5
}
