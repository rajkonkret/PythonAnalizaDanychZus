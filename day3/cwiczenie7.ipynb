{
 "cells": [
  {
   "metadata": {},
   "cell_type": "markdown",
   "source": "polars vs pandas\n",
   "id": "18b7f410c1cb6c77"
  },
  {
   "metadata": {
    "ExecuteTime": {
     "end_time": "2025-08-27T12:20:14.360789Z",
     "start_time": "2025-08-27T12:20:07.019207Z"
    }
   },
   "cell_type": "code",
   "source": [
    "!pip install dask\n",
    "!pip install pyarrow"
   ],
   "id": "20dd1f2c0cacdf72",
   "outputs": [
    {
     "name": "stdout",
     "output_type": "stream",
     "text": [
      "Requirement already satisfied: dask in c:\\users\\cscomarch\\pycharmprojects\\pythonproject\\.venv\\lib\\site-packages (2025.7.0)\n",
      "Requirement already satisfied: click>=8.1 in c:\\users\\cscomarch\\pycharmprojects\\pythonproject\\.venv\\lib\\site-packages (from dask) (8.2.1)\n",
      "Requirement already satisfied: cloudpickle>=3.0.0 in c:\\users\\cscomarch\\pycharmprojects\\pythonproject\\.venv\\lib\\site-packages (from dask) (3.1.1)\n",
      "Requirement already satisfied: fsspec>=2021.09.0 in c:\\users\\cscomarch\\pycharmprojects\\pythonproject\\.venv\\lib\\site-packages (from dask) (2025.7.0)\n",
      "Requirement already satisfied: packaging>=20.0 in c:\\users\\cscomarch\\pycharmprojects\\pythonproject\\.venv\\lib\\site-packages (from dask) (25.0)\n",
      "Requirement already satisfied: partd>=1.4.0 in c:\\users\\cscomarch\\pycharmprojects\\pythonproject\\.venv\\lib\\site-packages (from dask) (1.4.2)\n",
      "Requirement already satisfied: pyyaml>=5.3.1 in c:\\users\\cscomarch\\pycharmprojects\\pythonproject\\.venv\\lib\\site-packages (from dask) (6.0.2)\n",
      "Requirement already satisfied: toolz>=0.10.0 in c:\\users\\cscomarch\\pycharmprojects\\pythonproject\\.venv\\lib\\site-packages (from dask) (1.0.0)\n",
      "Requirement already satisfied: colorama in c:\\users\\cscomarch\\pycharmprojects\\pythonproject\\.venv\\lib\\site-packages (from click>=8.1->dask) (0.4.6)\n",
      "Requirement already satisfied: locket in c:\\users\\cscomarch\\pycharmprojects\\pythonproject\\.venv\\lib\\site-packages (from partd>=1.4.0->dask) (1.0.0)\n"
     ]
    },
    {
     "name": "stderr",
     "output_type": "stream",
     "text": [
      "\n",
      "[notice] A new release of pip is available: 25.1.1 -> 25.2\n",
      "[notice] To update, run: python.exe -m pip install --upgrade pip\n"
     ]
    },
    {
     "name": "stdout",
     "output_type": "stream",
     "text": [
      "Collecting pyarrow\n",
      "  Downloading pyarrow-21.0.0-cp312-cp312-win_amd64.whl.metadata (3.4 kB)\n",
      "Downloading pyarrow-21.0.0-cp312-cp312-win_amd64.whl (26.2 MB)\n",
      "   ---------------------------------------- 0.0/26.2 MB ? eta -:--:--\n",
      "   -------------- ------------------------- 9.4/26.2 MB 73.4 MB/s eta 0:00:01\n",
      "   ---------------------------------- ----- 22.5/26.2 MB 64.8 MB/s eta 0:00:01\n",
      "   ---------------------------------------- 26.2/26.2 MB 57.3 MB/s eta 0:00:00\n",
      "Installing collected packages: pyarrow\n",
      "Successfully installed pyarrow-21.0.0\n"
     ]
    },
    {
     "name": "stderr",
     "output_type": "stream",
     "text": [
      "\n",
      "[notice] A new release of pip is available: 25.1.1 -> 25.2\n",
      "[notice] To update, run: python.exe -m pip install --upgrade pip\n"
     ]
    }
   ],
   "execution_count": 3
  },
  {
   "metadata": {
    "collapsed": true,
    "ExecuteTime": {
     "end_time": "2025-08-27T12:20:21.102082Z",
     "start_time": "2025-08-27T12:20:19.969663Z"
    }
   },
   "cell_type": "code",
   "source": "import dask.dataframe as dd",
   "id": "ec255702a9fdcf5b",
   "outputs": [],
   "execution_count": 4
  }
 ],
 "metadata": {
  "kernelspec": {
   "display_name": "Python 3",
   "language": "python",
   "name": "python3"
  },
  "language_info": {
   "codemirror_mode": {
    "name": "ipython",
    "version": 2
   },
   "file_extension": ".py",
   "mimetype": "text/x-python",
   "name": "python",
   "nbconvert_exporter": "python",
   "pygments_lexer": "ipython2",
   "version": "2.7.6"
  }
 },
 "nbformat": 4,
 "nbformat_minor": 5
}
