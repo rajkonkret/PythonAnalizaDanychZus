{
 "cells": [
  {
   "cell_type": "code",
   "execution_count": null,
   "id": "initial_id",
   "metadata": {
    "collapsed": true
   },
   "outputs": [],
   "source": "# Pandas
import time
import dask.dataframe as dd
import time
import polars as pl
import time

import pandas as pd
import time

filename = "bigfile_polars.csv"
#############
start = time.time()
df = pd.read_csv(filename)
mean = df["value"].mean()
print("Pandas mean:", mean)
print("Czas:", time.time() - start)

start = time.time()
result = df.groupby("category")["value"].sum()
print("Pandas groupby sum:", result.head())
print("Czas:", time.time() - start)

###############
# polars
start = time.time()
df = pl.read_csv(filename)
mean = df["value"].mean()
print("Polars mean:", mean)
print("Czas:", time.time() - start)

# Polars
start = time.time()
result = df.group_by("category").agg(pl.col("value").sum())
print("Polars groupby sum:", result.head())
print("Czas:", time.time() - start)

start = time.time()

# Lazy scan (nie ładuje całego pliku do RAM)
df = pl.scan_csv(filename)

# Lazy pipeline, wynik będzie policzony podczas collect()
mean = df.select(pl.col("value").mean()).collect()
print("Polars scan mean:", mean)

print("Czas:", time.time() - start)
# Polars
start = time.time()
result = (
    pl.scan_csv(filename)
    .group_by("category")
    .agg(pl.col("value").sum())
    .collect()   # <-- TO JEST KLUCZ!
)
print("Polars groupby sum:", result.head())
print("Czas:", time.time() - start)

####################
# dask
start = time.time()
df = dd.read_csv(filename)
mean = df["value"].mean().compute()
print("Dask mean:", mean)
print("Czas:", time.time() - start)


# Dask
start = time.time()
result = df.groupby("category")["value"].sum().compute()
print("Dask groupby sum:", result.head())
print("Czas:", time.time() - start)
"
  },
  {
   "metadata": {},
   "cell_type": "markdown",
   "source": "polars vs pandas\n",
   "id": "18b7f410c1cb6c77"
  }
 ],
 "metadata": {
  "kernelspec": {
   "display_name": "Python 3",
   "language": "python",
   "name": "python3"
  },
  "language_info": {
   "codemirror_mode": {
    "name": "ipython",
    "version": 2
   },
   "file_extension": ".py",
   "mimetype": "text/x-python",
   "name": "python",
   "nbconvert_exporter": "python",
   "pygments_lexer": "ipython2",
   "version": "2.7.6"
  }
 },
 "nbformat": 4,
 "nbformat_minor": 5
}
