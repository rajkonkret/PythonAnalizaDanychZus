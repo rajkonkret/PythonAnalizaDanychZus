{
 "cells": [
  {
   "metadata": {},
   "cell_type": "markdown",
   "source": [
    "!pip install dask\n",
    "!pip install pyarrow"
   ],
   "id": "c633311d079ff130"
  },
  {
   "cell_type": "code",
   "id": "initial_id",
   "metadata": {
    "collapsed": true,
    "ExecuteTime": {
     "end_time": "2025-08-27T12:24:26.611017Z",
     "start_time": "2025-08-27T12:24:26.035646Z"
    }
   },
   "source": "import dask.dataframe as dd",
   "outputs": [],
   "execution_count": 1
  }
 ],
 "metadata": {
  "kernelspec": {
   "display_name": "Python 3",
   "language": "python",
   "name": "python3"
  },
  "language_info": {
   "codemirror_mode": {
    "name": "ipython",
    "version": 2
   },
   "file_extension": ".py",
   "mimetype": "text/x-python",
   "name": "python",
   "nbconvert_exporter": "python",
   "pygments_lexer": "ipython2",
   "version": "2.7.6"
  }
 },
 "nbformat": 4,
 "nbformat_minor": 5
}
