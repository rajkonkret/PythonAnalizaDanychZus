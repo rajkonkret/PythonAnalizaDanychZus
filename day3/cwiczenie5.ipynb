{
 "cells": [
  {
   "metadata": {},
   "cell_type": "markdown",
   "source": [
    "# SciPy\n",
    "\n",
    "Zawiera m.in.:\\\n",
    "    całkowani,e\\\n",
    "    równania różniczkowe,\\\n",
    "    statystykę,\\\n",
    "    interpolację,\\\n",
    "    optymalizację,\\\n",
    "    przetwarzanie sygnałów"
   ],
   "id": "5ad3f74ef91158e"
  },
  {
   "metadata": {
    "collapsed": true,
    "ExecuteTime": {
     "end_time": "2025-08-27T08:15:23.638482Z",
     "start_time": "2025-08-27T08:15:03.048289Z"
    }
   },
   "cell_type": "code",
   "source": "!pip install scipy",
   "id": "fbd1e4fe13aca8be",
   "outputs": [
    {
     "name": "stdout",
     "output_type": "stream",
     "text": [
      "Collecting scipy\n",
      "  Downloading scipy-1.16.1-cp312-cp312-win_amd64.whl.metadata (60 kB)\n",
      "Requirement already satisfied: numpy<2.6,>=1.25.2 in c:\\users\\cscomarch\\pycharmprojects\\pythonproject\\.venv\\lib\\site-packages (from scipy) (2.0.2)\n",
      "Downloading scipy-1.16.1-cp312-cp312-win_amd64.whl (38.5 MB)\n",
      "   ---------------------------------------- 0.0/38.5 MB ? eta -:--:--\n",
      "   -------------------- ------------------- 19.9/38.5 MB 114.3 MB/s eta 0:00:01\n",
      "   ---------------------------------------  38.3/38.5 MB 135.3 MB/s eta 0:00:01\n",
      "   ---------------------------------------- 38.5/38.5 MB 84.4 MB/s eta 0:00:00\n",
      "Installing collected packages: scipy\n",
      "Successfully installed scipy-1.16.1\n"
     ]
    },
    {
     "name": "stderr",
     "output_type": "stream",
     "text": [
      "\n",
      "[notice] A new release of pip is available: 25.1.1 -> 25.2\n",
      "[notice] To update, run: python.exe -m pip install --upgrade pip\n"
     ]
    }
   ],
   "execution_count": 1
  },
  {
   "metadata": {
    "ExecuteTime": {
     "end_time": "2025-08-27T08:18:31.626573Z",
     "start_time": "2025-08-27T08:18:25.516310Z"
    }
   },
   "cell_type": "code",
   "source": [
    "import numpy as np\n",
    "import matplotlib.pyplot as plt\n",
    "from scipy import integrate, optimize, stats, spatial, fft, signal, linalg, ndimage, interpolate"
   ],
   "id": "7f36c91137c5c482",
   "outputs": [],
   "execution_count": 2
  },
  {
   "metadata": {},
   "cell_type": "markdown",
   "source": "## Całkowanie i różniczkowanie",
   "id": "1e32477cbbe9a9d5"
  },
  {
   "metadata": {
    "ExecuteTime": {
     "end_time": "2025-08-27T08:21:06.244875Z",
     "start_time": "2025-08-27T08:21:06.240228Z"
    }
   },
   "cell_type": "code",
   "source": [
    "res, err = integrate.quad(lambda x: x ** 2, 0, 2)  # lambda zawsze zwraca wynik, funkcja anonimowa\n",
    "print(\"Wynik całkowania  x^2 dx:\", res, \"Bład:\", err)"
   ],
   "id": "db9bb58d29f60176",
   "outputs": [
    {
     "name": "stdout",
     "output_type": "stream",
     "text": [
      "Wynik całkowania  x^2 dx: 2.666666666666667 Bład: 2.960594732333751e-14\n"
     ]
    }
   ],
   "execution_count": 3
  },
  {
   "metadata": {},
   "cell_type": "markdown",
   "source": "## Optymalizacja",
   "id": "7858a0056b44cfe"
  },
  {
   "metadata": {
    "ExecuteTime": {
     "end_time": "2025-08-27T08:22:48.914438Z",
     "start_time": "2025-08-27T08:22:48.906925Z"
    }
   },
   "cell_type": "code",
   "source": [
    "res = optimize.minimize(lambda x: (x - 3) ** 2, x0=0)\n",
    "print(\"Minimum funkcji kwadratowej: f(x) = (x-3)^2\", res)"
   ],
   "id": "4cb87623153afaba",
   "outputs": [
    {
     "name": "stdout",
     "output_type": "stream",
     "text": [
      "Minimum funkcji kwadratowej: f(x) = (x-3)^2   message: Optimization terminated successfully.\n",
      "  success: True\n",
      "   status: 0\n",
      "      fun: 2.5388963550532293e-16\n",
      "        x: [ 3.000e+00]\n",
      "      nit: 2\n",
      "      jac: [-1.697e-08]\n",
      " hess_inv: [[ 5.000e-01]]\n",
      "     nfev: 6\n",
      "     njev: 3\n"
     ]
    }
   ],
   "execution_count": 5
  },
  {
   "metadata": {
    "ExecuteTime": {
     "end_time": "2025-08-27T08:23:15.573484Z",
     "start_time": "2025-08-27T08:23:15.563367Z"
    }
   },
   "cell_type": "code",
   "source": "res.x",
   "id": "62e222356a7862ab",
   "outputs": [
    {
     "data": {
      "text/plain": [
       "array([2.99999998])"
      ]
     },
     "execution_count": 6,
     "metadata": {},
     "output_type": "execute_result"
    }
   ],
   "execution_count": 6
  },
  {
   "metadata": {},
   "cell_type": "markdown",
   "source": "## Statystyka",
   "id": "bd1a4b532afd221"
  },
  {
   "metadata": {
    "ExecuteTime": {
     "end_time": "2025-08-27T08:25:16.408230Z",
     "start_time": "2025-08-27T08:25:16.399085Z"
    }
   },
   "cell_type": "code",
   "source": [
    "# Test Shapiro-Wilka\n",
    "data = stats.norm.rvs(size=5000)\n",
    "stat, p = stats.shapiro(data)\n",
    "print(\"Shapiro-Wilk:\", stat, \"p-value:\", p)  # p > 0.05 rozkład normalny"
   ],
   "id": "2def9f5b665e8d93",
   "outputs": [
    {
     "name": "stdout",
     "output_type": "stream",
     "text": [
      "Shapiro-Wilk: 0.9994510071902564 p-value: 0.14871828082712452\n"
     ]
    }
   ],
   "execution_count": 7
  },
  {
   "metadata": {
    "ExecuteTime": {
     "end_time": "2025-08-27T08:26:20.401811Z",
     "start_time": "2025-08-27T08:26:20.397135Z"
    }
   },
   "cell_type": "code",
   "source": "## Odległośćc Euklidesowa",
   "id": "7b9dec3e7cd6432e",
   "outputs": [],
   "execution_count": 8
  },
  {
   "metadata": {
    "ExecuteTime": {
     "end_time": "2025-08-27T08:27:12.737322Z",
     "start_time": "2025-08-27T08:27:12.725376Z"
    }
   },
   "cell_type": "code",
   "source": [
    "from scipy.spatial.distance import euclidean\n",
    "\n",
    "print(\"Odległość:\", euclidean([1, 1, ], [4, 6]))"
   ],
   "id": "d9b8def3bb350650",
   "outputs": [
    {
     "name": "stdout",
     "output_type": "stream",
     "text": [
      "Odległość: 5.830951894845301\n"
     ]
    }
   ],
   "execution_count": 9
  },
  {
   "metadata": {
    "ExecuteTime": {
     "end_time": "2025-08-27T08:27:44.445943Z",
     "start_time": "2025-08-27T08:27:44.439246Z"
    }
   },
   "cell_type": "code",
   "source": "print(type(euclidean([1, 1, ], [4, 6])))",
   "id": "ce9fd963defce62e",
   "outputs": [
    {
     "name": "stdout",
     "output_type": "stream",
     "text": [
      "<class 'numpy.float64'>\n"
     ]
    }
   ],
   "execution_count": 10
  }
 ],
 "metadata": {
  "kernelspec": {
   "display_name": "Python 3",
   "language": "python",
   "name": "python3"
  },
  "language_info": {
   "codemirror_mode": {
    "name": "ipython",
    "version": 2
   },
   "file_extension": ".py",
   "mimetype": "text/x-python",
   "name": "python",
   "nbconvert_exporter": "python",
   "pygments_lexer": "ipython2",
   "version": "2.7.6"
  }
 },
 "nbformat": 4,
 "nbformat_minor": 5
}
