{
 "cells": [
  {
   "metadata": {},
   "cell_type": "markdown",
   "source": [
    "Początek programu\n",
    "**pogrubiony tekst** \\\n",
    "Nowa linia\n",
    "# Nowa sekcja\n",
    "## Nowa sekcja\n",
    "### Nowa sekcja"
   ],
   "id": "b84d4670e76b786a"
  },
  {
   "metadata": {
    "collapsed": true,
    "ExecuteTime": {
     "end_time": "2025-08-26T07:45:13.995440Z",
     "start_time": "2025-08-26T07:45:13.183187Z"
    }
   },
   "cell_type": "code",
   "outputs": [
    {
     "name": "stdout",
     "output_type": "stream",
     "text": [
      "Witaj w notatniku...\n"
     ]
    }
   ],
   "execution_count": 1,
   "source": "print(\"Witaj w notatniku...\")",
   "id": "8af00853910824f7"
  },
  {
   "metadata": {
    "ExecuteTime": {
     "end_time": "2025-08-26T07:51:50.390858Z",
     "start_time": "2025-08-26T07:51:50.387675Z"
    }
   },
   "cell_type": "code",
   "source": [
    "a = 5\n",
    "b = 6"
   ],
   "id": "a545b44df1514995",
   "outputs": [],
   "execution_count": 2
  },
  {
   "metadata": {
    "ExecuteTime": {
     "end_time": "2025-08-26T07:52:01.424792Z",
     "start_time": "2025-08-26T07:52:01.404698Z"
    }
   },
   "cell_type": "code",
   "source": "print(a, b)",
   "id": "1eaf0eb9541078a4",
   "outputs": [
    {
     "name": "stdout",
     "output_type": "stream",
     "text": [
      "5 6\n"
     ]
    }
   ],
   "execution_count": 3
  },
  {
   "metadata": {},
   "cell_type": "code",
   "outputs": [],
   "execution_count": null,
   "source": "c=9",
   "id": "a62500ff9b09ed09"
  },
  {
   "metadata": {
    "ExecuteTime": {
     "end_time": "2025-08-26T07:52:28.066248Z",
     "start_time": "2025-08-26T07:52:27.698254Z"
    }
   },
   "cell_type": "code",
   "source": "print(c)",
   "id": "a7893cea1602bbeb",
   "outputs": [
    {
     "ename": "NameError",
     "evalue": "name 'c' is not defined",
     "output_type": "error",
     "traceback": [
      "\u001B[31m---------------------------------------------------------------------------\u001B[39m",
      "\u001B[31mNameError\u001B[39m                                 Traceback (most recent call last)",
      "\u001B[36mCell\u001B[39m\u001B[36m \u001B[39m\u001B[32mIn[4]\u001B[39m\u001B[32m, line 1\u001B[39m\n\u001B[32m----> \u001B[39m\u001B[32m1\u001B[39m \u001B[38;5;28mprint\u001B[39m(\u001B[43mc\u001B[49m)\n",
      "\u001B[31mNameError\u001B[39m: name 'c' is not defined"
     ]
    }
   ],
   "execution_count": 4
  },
  {
   "metadata": {
    "ExecuteTime": {
     "end_time": "2025-08-26T07:52:49.512623Z",
     "start_time": "2025-08-26T07:52:49.507465Z"
    }
   },
   "cell_type": "code",
   "source": "a",
   "id": "31f008fe2c2d2b07",
   "outputs": [
    {
     "data": {
      "text/plain": [
       "5"
      ]
     },
     "execution_count": 6,
     "metadata": {},
     "output_type": "execute_result"
    }
   ],
   "execution_count": 6
  },
  {
   "metadata": {},
   "cell_type": "markdown",
   "source": [
    "# Bibliotek NumPy\n",
    "\n",
    "Napisana w jęzuku C do szybkich operacji na danych tablicowych\\\n",
    "podstawowy element: **ndarray**"
   ],
   "id": "887e0a9ce378f2e"
  },
  {
   "metadata": {
    "ExecuteTime": {
     "end_time": "2025-08-26T07:57:13.417496Z",
     "start_time": "2025-08-26T07:57:02.842353Z"
    }
   },
   "cell_type": "code",
   "source": [
    "# !pip install numpy\n",
    "!pip install numpy==2.0.2"
   ],
   "id": "d9c28d65662a5086",
   "outputs": [
    {
     "name": "stdout",
     "output_type": "stream",
     "text": [
      "Collecting numpy==2.0.2\n",
      "  Downloading numpy-2.0.2-cp312-cp312-win_amd64.whl.metadata (59 kB)\n",
      "Downloading numpy-2.0.2-cp312-cp312-win_amd64.whl (15.6 MB)\n",
      "   ---------------------------------------- 0.0/15.6 MB ? eta -:--:--\n",
      "   ------------------- -------------------- 7.6/15.6 MB 67.3 MB/s eta 0:00:01\n",
      "   ---------------------------------------- 15.6/15.6 MB 49.2 MB/s eta 0:00:00\n",
      "Installing collected packages: numpy\n",
      "Successfully installed numpy-2.0.2\n"
     ]
    },
    {
     "name": "stderr",
     "output_type": "stream",
     "text": [
      "\n",
      "[notice] A new release of pip is available: 25.1.1 -> 25.2\n",
      "[notice] To update, run: python.exe -m pip install --upgrade pip\n"
     ]
    }
   ],
   "execution_count": 7
  },
  {
   "metadata": {
    "ExecuteTime": {
     "end_time": "2025-08-26T07:57:27.659990Z",
     "start_time": "2025-08-26T07:57:26.785820Z"
    }
   },
   "cell_type": "code",
   "source": "!pip list",
   "id": "3bf08526525cbd1c",
   "outputs": [
    {
     "name": "stdout",
     "output_type": "stream",
     "text": [
      "Package                   Version\n",
      "------------------------- --------------\n",
      "anyio                     4.10.0\n",
      "argon2-cffi               25.1.0\n",
      "argon2-cffi-bindings      25.1.0\n",
      "arrow                     1.3.0\n",
      "asttokens                 3.0.0\n",
      "async-lru                 2.0.5\n",
      "attrs                     25.3.0\n",
      "babel                     2.17.0\n",
      "beautifulsoup4            4.13.5\n",
      "bleach                    6.2.0\n",
      "certifi                   2025.8.3\n",
      "cffi                      1.17.1\n",
      "charset-normalizer        3.4.3\n",
      "colorama                  0.4.6\n",
      "comm                      0.2.3\n",
      "debugpy                   1.8.16\n",
      "decorator                 5.2.1\n",
      "defusedxml                0.7.1\n",
      "executing                 2.2.0\n",
      "fastjsonschema            2.21.2\n",
      "fqdn                      1.5.1\n",
      "h11                       0.16.0\n",
      "httpcore                  1.0.9\n",
      "httpx                     0.28.1\n",
      "idna                      3.10\n",
      "ipykernel                 6.30.1\n",
      "ipython                   9.4.0\n",
      "ipython_pygments_lexers   1.1.1\n",
      "isoduration               20.11.0\n",
      "jedi                      0.19.2\n",
      "Jinja2                    3.1.6\n",
      "json5                     0.12.1\n",
      "jsonpointer               3.0.0\n",
      "jsonschema                4.25.1\n",
      "jsonschema-specifications 2025.4.1\n",
      "jupyter_client            8.6.3\n",
      "jupyter_core              5.8.1\n",
      "jupyter-events            0.12.0\n",
      "jupyter-lsp               2.2.6\n",
      "jupyter_server            2.17.0\n",
      "jupyter_server_terminals  0.5.3\n",
      "jupyterlab                4.4.6\n",
      "jupyterlab_pygments       0.3.0\n",
      "jupyterlab_server         2.27.3\n",
      "lark                      1.2.2\n",
      "MarkupSafe                3.0.2\n",
      "matplotlib-inline         0.1.7\n",
      "mistune                   3.1.3\n",
      "mypy                      1.17.1\n",
      "mypy_extensions           1.1.0\n",
      "nbclient                  0.10.2\n",
      "nbconvert                 7.16.6\n",
      "nbformat                  5.10.4\n",
      "nest-asyncio              1.6.0\n",
      "notebook                  7.4.5\n",
      "notebook_shim             0.2.4\n",
      "numpy                     2.0.2\n",
      "packaging                 25.0\n",
      "pandocfilters             1.5.1\n",
      "parso                     0.8.5\n",
      "pathspec                  0.12.1\n",
      "pip                       25.1.1\n",
      "platformdirs              4.3.8\n",
      "prometheus_client         0.22.1\n",
      "prompt_toolkit            3.0.51\n",
      "psutil                    7.0.0\n",
      "pure_eval                 0.2.3\n",
      "pycparser                 2.22\n",
      "Pygments                  2.19.2\n",
      "python-dateutil           2.9.0.post0\n",
      "python-json-logger        3.3.0\n",
      "pywin32                   311\n",
      "pywinpty                  3.0.0\n",
      "PyYAML                    6.0.2\n",
      "pyzmq                     27.0.2\n",
      "referencing               0.36.2\n",
      "requests                  2.32.5\n",
      "rfc3339-validator         0.1.4\n",
      "rfc3986-validator         0.1.1\n",
      "rfc3987-syntax            1.1.0\n",
      "rpds-py                   0.27.0\n",
      "Send2Trash                1.8.3\n",
      "setuptools                80.9.0\n",
      "six                       1.17.0\n",
      "sniffio                   1.3.1\n",
      "soupsieve                 2.7\n",
      "stack-data                0.6.3\n",
      "terminado                 0.18.1\n",
      "tinycss2                  1.4.0\n",
      "tornado                   6.5.2\n",
      "traitlets                 5.14.3\n",
      "types-python-dateutil     2.9.0.20250822\n",
      "typing_extensions         4.14.1\n",
      "uri-template              1.3.0\n",
      "urllib3                   2.5.0\n",
      "wcwidth                   0.2.13\n",
      "webcolors                 24.11.1\n",
      "webencodings              0.5.1\n",
      "websocket-client          1.8.0\n"
     ]
    }
   ],
   "execution_count": 8
  },
  {
   "metadata": {
    "ExecuteTime": {
     "end_time": "2025-08-26T07:58:10.985790Z",
     "start_time": "2025-08-26T07:58:10.718790Z"
    }
   },
   "cell_type": "code",
   "source": [
    "import numpy as np\n",
    "\n"
   ],
   "id": "ff57eb06af5b41c",
   "outputs": [],
   "execution_count": 9
  }
 ],
 "metadata": {
  "kernelspec": {
   "display_name": "Python 3",
   "language": "python",
   "name": "python3"
  },
  "language_info": {
   "codemirror_mode": {
    "name": "ipython",
    "version": 2
   },
   "file_extension": ".py",
   "mimetype": "text/x-python",
   "name": "python",
   "nbconvert_exporter": "python",
   "pygments_lexer": "ipython2",
   "version": "2.7.6"
  }
 },
 "nbformat": 4,
 "nbformat_minor": 5
}
