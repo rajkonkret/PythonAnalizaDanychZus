{
 "cells": [
  {
   "metadata": {},
   "cell_type": "markdown",
   "source": [
    "Początek programu\n",
    "**pogrubiony tekst** \\\n",
    "Nowa linia\n",
    "# Nowa sekcja\n",
    "## Nowa sekcja\n",
    "### Nowa sekcja"
   ],
   "id": "b84d4670e76b786a"
  },
  {
   "metadata": {
    "collapsed": true,
    "ExecuteTime": {
     "end_time": "2025-08-26T07:45:13.995440Z",
     "start_time": "2025-08-26T07:45:13.183187Z"
    }
   },
   "cell_type": "code",
   "outputs": [
    {
     "name": "stdout",
     "output_type": "stream",
     "text": [
      "Witaj w notatniku...\n"
     ]
    }
   ],
   "execution_count": 1,
   "source": "print(\"Witaj w notatniku...\")",
   "id": "8af00853910824f7"
  },
  {
   "metadata": {
    "ExecuteTime": {
     "end_time": "2025-08-26T07:51:50.390858Z",
     "start_time": "2025-08-26T07:51:50.387675Z"
    }
   },
   "cell_type": "code",
   "source": [
    "a = 5\n",
    "b = 6"
   ],
   "id": "a545b44df1514995",
   "outputs": [],
   "execution_count": 2
  },
  {
   "metadata": {
    "ExecuteTime": {
     "end_time": "2025-08-26T07:52:01.424792Z",
     "start_time": "2025-08-26T07:52:01.404698Z"
    }
   },
   "cell_type": "code",
   "source": "print(a, b)",
   "id": "1eaf0eb9541078a4",
   "outputs": [
    {
     "name": "stdout",
     "output_type": "stream",
     "text": [
      "5 6\n"
     ]
    }
   ],
   "execution_count": 3
  },
  {
   "metadata": {},
   "cell_type": "code",
   "outputs": [],
   "execution_count": null,
   "source": "c = 9",
   "id": "a62500ff9b09ed09"
  },
  {
   "metadata": {
    "ExecuteTime": {
     "end_time": "2025-08-26T07:52:28.066248Z",
     "start_time": "2025-08-26T07:52:27.698254Z"
    }
   },
   "cell_type": "code",
   "source": "print(c)",
   "id": "a7893cea1602bbeb",
   "outputs": [
    {
     "ename": "NameError",
     "evalue": "name 'c' is not defined",
     "output_type": "error",
     "traceback": [
      "\u001B[31m---------------------------------------------------------------------------\u001B[39m",
      "\u001B[31mNameError\u001B[39m                                 Traceback (most recent call last)",
      "\u001B[36mCell\u001B[39m\u001B[36m \u001B[39m\u001B[32mIn[4]\u001B[39m\u001B[32m, line 1\u001B[39m\n\u001B[32m----> \u001B[39m\u001B[32m1\u001B[39m \u001B[38;5;28mprint\u001B[39m(\u001B[43mc\u001B[49m)\n",
      "\u001B[31mNameError\u001B[39m: name 'c' is not defined"
     ]
    }
   ],
   "execution_count": 4
  },
  {
   "metadata": {
    "ExecuteTime": {
     "end_time": "2025-08-26T07:52:49.512623Z",
     "start_time": "2025-08-26T07:52:49.507465Z"
    }
   },
   "cell_type": "code",
   "source": "a",
   "id": "31f008fe2c2d2b07",
   "outputs": [
    {
     "data": {
      "text/plain": [
       "5"
      ]
     },
     "execution_count": 6,
     "metadata": {},
     "output_type": "execute_result"
    }
   ],
   "execution_count": 6
  },
  {
   "metadata": {},
   "cell_type": "markdown",
   "source": [
    "# Bibliotek NumPy\n",
    "\n",
    "Napisana w jęzuku C do szybkich operacji na danych tablicowych\\\n",
    "podstawowy element: **ndarray**"
   ],
   "id": "887e0a9ce378f2e"
  },
  {
   "metadata": {
    "ExecuteTime": {
     "end_time": "2025-08-26T07:57:13.417496Z",
     "start_time": "2025-08-26T07:57:02.842353Z"
    }
   },
   "cell_type": "code",
   "source": [
    "# !pip install numpy\n",
    "!pip install numpy==2.0.2"
   ],
   "id": "d9c28d65662a5086",
   "outputs": [
    {
     "name": "stdout",
     "output_type": "stream",
     "text": [
      "Collecting numpy==2.0.2\n",
      "  Downloading numpy-2.0.2-cp312-cp312-win_amd64.whl.metadata (59 kB)\n",
      "Downloading numpy-2.0.2-cp312-cp312-win_amd64.whl (15.6 MB)\n",
      "   ---------------------------------------- 0.0/15.6 MB ? eta -:--:--\n",
      "   ------------------- -------------------- 7.6/15.6 MB 67.3 MB/s eta 0:00:01\n",
      "   ---------------------------------------- 15.6/15.6 MB 49.2 MB/s eta 0:00:00\n",
      "Installing collected packages: numpy\n",
      "Successfully installed numpy-2.0.2\n"
     ]
    },
    {
     "name": "stderr",
     "output_type": "stream",
     "text": [
      "\n",
      "[notice] A new release of pip is available: 25.1.1 -> 25.2\n",
      "[notice] To update, run: python.exe -m pip install --upgrade pip\n"
     ]
    }
   ],
   "execution_count": 7
  },
  {
   "metadata": {
    "ExecuteTime": {
     "end_time": "2025-08-26T07:57:27.659990Z",
     "start_time": "2025-08-26T07:57:26.785820Z"
    }
   },
   "cell_type": "code",
   "source": "!pip list",
   "id": "3bf08526525cbd1c",
   "outputs": [
    {
     "name": "stdout",
     "output_type": "stream",
     "text": [
      "Package                   Version\n",
      "------------------------- --------------\n",
      "anyio                     4.10.0\n",
      "argon2-cffi               25.1.0\n",
      "argon2-cffi-bindings      25.1.0\n",
      "arrow                     1.3.0\n",
      "asttokens                 3.0.0\n",
      "async-lru                 2.0.5\n",
      "attrs                     25.3.0\n",
      "babel                     2.17.0\n",
      "beautifulsoup4            4.13.5\n",
      "bleach                    6.2.0\n",
      "certifi                   2025.8.3\n",
      "cffi                      1.17.1\n",
      "charset-normalizer        3.4.3\n",
      "colorama                  0.4.6\n",
      "comm                      0.2.3\n",
      "debugpy                   1.8.16\n",
      "decorator                 5.2.1\n",
      "defusedxml                0.7.1\n",
      "executing                 2.2.0\n",
      "fastjsonschema            2.21.2\n",
      "fqdn                      1.5.1\n",
      "h11                       0.16.0\n",
      "httpcore                  1.0.9\n",
      "httpx                     0.28.1\n",
      "idna                      3.10\n",
      "ipykernel                 6.30.1\n",
      "ipython                   9.4.0\n",
      "ipython_pygments_lexers   1.1.1\n",
      "isoduration               20.11.0\n",
      "jedi                      0.19.2\n",
      "Jinja2                    3.1.6\n",
      "json5                     0.12.1\n",
      "jsonpointer               3.0.0\n",
      "jsonschema                4.25.1\n",
      "jsonschema-specifications 2025.4.1\n",
      "jupyter_client            8.6.3\n",
      "jupyter_core              5.8.1\n",
      "jupyter-events            0.12.0\n",
      "jupyter-lsp               2.2.6\n",
      "jupyter_server            2.17.0\n",
      "jupyter_server_terminals  0.5.3\n",
      "jupyterlab                4.4.6\n",
      "jupyterlab_pygments       0.3.0\n",
      "jupyterlab_server         2.27.3\n",
      "lark                      1.2.2\n",
      "MarkupSafe                3.0.2\n",
      "matplotlib-inline         0.1.7\n",
      "mistune                   3.1.3\n",
      "mypy                      1.17.1\n",
      "mypy_extensions           1.1.0\n",
      "nbclient                  0.10.2\n",
      "nbconvert                 7.16.6\n",
      "nbformat                  5.10.4\n",
      "nest-asyncio              1.6.0\n",
      "notebook                  7.4.5\n",
      "notebook_shim             0.2.4\n",
      "numpy                     2.0.2\n",
      "packaging                 25.0\n",
      "pandocfilters             1.5.1\n",
      "parso                     0.8.5\n",
      "pathspec                  0.12.1\n",
      "pip                       25.1.1\n",
      "platformdirs              4.3.8\n",
      "prometheus_client         0.22.1\n",
      "prompt_toolkit            3.0.51\n",
      "psutil                    7.0.0\n",
      "pure_eval                 0.2.3\n",
      "pycparser                 2.22\n",
      "Pygments                  2.19.2\n",
      "python-dateutil           2.9.0.post0\n",
      "python-json-logger        3.3.0\n",
      "pywin32                   311\n",
      "pywinpty                  3.0.0\n",
      "PyYAML                    6.0.2\n",
      "pyzmq                     27.0.2\n",
      "referencing               0.36.2\n",
      "requests                  2.32.5\n",
      "rfc3339-validator         0.1.4\n",
      "rfc3986-validator         0.1.1\n",
      "rfc3987-syntax            1.1.0\n",
      "rpds-py                   0.27.0\n",
      "Send2Trash                1.8.3\n",
      "setuptools                80.9.0\n",
      "six                       1.17.0\n",
      "sniffio                   1.3.1\n",
      "soupsieve                 2.7\n",
      "stack-data                0.6.3\n",
      "terminado                 0.18.1\n",
      "tinycss2                  1.4.0\n",
      "tornado                   6.5.2\n",
      "traitlets                 5.14.3\n",
      "types-python-dateutil     2.9.0.20250822\n",
      "typing_extensions         4.14.1\n",
      "uri-template              1.3.0\n",
      "urllib3                   2.5.0\n",
      "wcwidth                   0.2.13\n",
      "webcolors                 24.11.1\n",
      "webencodings              0.5.1\n",
      "websocket-client          1.8.0\n"
     ]
    }
   ],
   "execution_count": 8
  },
  {
   "metadata": {
    "ExecuteTime": {
     "end_time": "2025-08-26T08:00:06.229232Z",
     "start_time": "2025-08-26T08:00:06.225598Z"
    }
   },
   "cell_type": "code",
   "source": "import numpy as np",
   "id": "ff57eb06af5b41c",
   "outputs": [],
   "execution_count": 10
  },
  {
   "metadata": {
    "ExecuteTime": {
     "end_time": "2025-08-26T08:00:30.293993Z",
     "start_time": "2025-08-26T08:00:30.288839Z"
    }
   },
   "cell_type": "code",
   "source": [
    "lista = [2, 4, 6, 8, 10]\n",
    "print(lista)\n",
    "lista"
   ],
   "id": "f1de4082ab0f8920",
   "outputs": [
    {
     "name": "stdout",
     "output_type": "stream",
     "text": [
      "[2, 4, 6, 8, 10]\n"
     ]
    },
    {
     "data": {
      "text/plain": [
       "[2, 4, 6, 8, 10]"
      ]
     },
     "execution_count": 11,
     "metadata": {},
     "output_type": "execute_result"
    }
   ],
   "execution_count": 11
  },
  {
   "metadata": {
    "ExecuteTime": {
     "end_time": "2025-08-26T08:02:09.669304Z",
     "start_time": "2025-08-26T08:02:09.664438Z"
    }
   },
   "cell_type": "code",
   "source": [
    "a = np.array(lista)\n",
    "print(a)\n",
    "a"
   ],
   "id": "5475a18d3ba10a9d",
   "outputs": [
    {
     "name": "stdout",
     "output_type": "stream",
     "text": [
      "[ 2  4  6  8 10]\n"
     ]
    },
    {
     "data": {
      "text/plain": [
       "array([ 2,  4,  6,  8, 10])"
      ]
     },
     "execution_count": 13,
     "metadata": {},
     "output_type": "execute_result"
    }
   ],
   "execution_count": 13
  },
  {
   "metadata": {
    "ExecuteTime": {
     "end_time": "2025-08-26T08:02:49.216976Z",
     "start_time": "2025-08-26T08:02:49.212975Z"
    }
   },
   "cell_type": "code",
   "source": "print(type(a))",
   "id": "ff1f3f312b5c593b",
   "outputs": [
    {
     "name": "stdout",
     "output_type": "stream",
     "text": [
      "<class 'numpy.ndarray'>\n"
     ]
    }
   ],
   "execution_count": 14
  },
  {
   "metadata": {
    "ExecuteTime": {
     "end_time": "2025-08-26T08:03:12.525917Z",
     "start_time": "2025-08-26T08:03:12.519916Z"
    }
   },
   "cell_type": "code",
   "source": "print(a.dtype)",
   "id": "f7d79585d8422c39",
   "outputs": [
    {
     "name": "stdout",
     "output_type": "stream",
     "text": [
      "int64\n"
     ]
    }
   ],
   "execution_count": 15
  },
  {
   "metadata": {},
   "cell_type": "markdown",
   "source": [
    "int64 - 8 bajtów\\\n",
    "posiada konkretny zakres"
   ],
   "id": "c172f56b9a18a746"
  },
  {
   "metadata": {
    "ExecuteTime": {
     "end_time": "2025-08-26T08:05:57.905362Z",
     "start_time": "2025-08-26T08:05:57.899361Z"
    }
   },
   "cell_type": "code",
   "source": "print(a.shape)  # kształt tablicy",
   "id": "c4428be51a61f660",
   "outputs": [
    {
     "name": "stdout",
     "output_type": "stream",
     "text": [
      "(5,)\n"
     ]
    }
   ],
   "execution_count": 16
  },
  {
   "metadata": {
    "ExecuteTime": {
     "end_time": "2025-08-26T08:06:47.458015Z",
     "start_time": "2025-08-26T08:06:47.452932Z"
    }
   },
   "cell_type": "code",
   "source": [
    "p = np.zeros((3, 3))  # tablica z zerami\n",
    "p"
   ],
   "id": "feb359281b561451",
   "outputs": [
    {
     "data": {
      "text/plain": [
       "array([[0., 0., 0.],\n",
       "       [0., 0., 0.],\n",
       "       [0., 0., 0.]])"
      ]
     },
     "execution_count": 17,
     "metadata": {},
     "output_type": "execute_result"
    }
   ],
   "execution_count": 17
  },
  {
   "metadata": {
    "ExecuteTime": {
     "end_time": "2025-08-26T08:07:10.123545Z",
     "start_time": "2025-08-26T08:07:10.118546Z"
    }
   },
   "cell_type": "code",
   "source": "print(p.dtype)",
   "id": "6ea5e8c1f67206be",
   "outputs": [
    {
     "name": "stdout",
     "output_type": "stream",
     "text": [
      "float64\n"
     ]
    }
   ],
   "execution_count": 18
  },
  {
   "metadata": {},
   "cell_type": "markdown",
   "source": "float64 - 8bitów",
   "id": "6f547fc93237b3ec"
  },
  {
   "metadata": {
    "ExecuteTime": {
     "end_time": "2025-08-26T08:08:55.274055Z",
     "start_time": "2025-08-26T08:08:55.266532Z"
    }
   },
   "cell_type": "code",
   "source": [
    "q = np.ones((2, 2))  # tablica jedynek\n",
    "print(q)\n",
    "q.dtype"
   ],
   "id": "d612838b39a549da",
   "outputs": [
    {
     "name": "stdout",
     "output_type": "stream",
     "text": [
      "[[1. 1.]\n",
      " [1. 1.]]\n"
     ]
    },
    {
     "data": {
      "text/plain": [
       "dtype('float64')"
      ]
     },
     "execution_count": 19,
     "metadata": {},
     "output_type": "execute_result"
    }
   ],
   "execution_count": 19
  },
  {
   "metadata": {
    "ExecuteTime": {
     "end_time": "2025-08-26T08:09:33.010216Z",
     "start_time": "2025-08-26T08:09:33.004509Z"
    }
   },
   "cell_type": "code",
   "source": [
    "r = np.full((2, 2), 4)  # tablica wypełniona czwórkami\n",
    "print(r)\n",
    "r.dtype"
   ],
   "id": "2477926fbaaa04aa",
   "outputs": [
    {
     "name": "stdout",
     "output_type": "stream",
     "text": [
      "[[4 4]\n",
      " [4 4]]\n"
     ]
    },
    {
     "data": {
      "text/plain": [
       "dtype('int64')"
      ]
     },
     "execution_count": 20,
     "metadata": {},
     "output_type": "execute_result"
    }
   ],
   "execution_count": 20
  },
  {
   "metadata": {
    "ExecuteTime": {
     "end_time": "2025-08-26T08:10:26.789250Z",
     "start_time": "2025-08-26T08:10:26.783729Z"
    }
   },
   "cell_type": "code",
   "source": [
    "s = np.eye(4)  # umieszczenie po przekątnej\n",
    "print(s)\n",
    "s.dtype"
   ],
   "id": "622c76230b517972",
   "outputs": [
    {
     "name": "stdout",
     "output_type": "stream",
     "text": [
      "[[1. 0. 0. 0.]\n",
      " [0. 1. 0. 0.]\n",
      " [0. 0. 1. 0.]\n",
      " [0. 0. 0. 1.]]\n"
     ]
    },
    {
     "data": {
      "text/plain": [
       "dtype('float64')"
      ]
     },
     "execution_count": 21,
     "metadata": {},
     "output_type": "execute_result"
    }
   ],
   "execution_count": 21
  },
  {
   "metadata": {
    "ExecuteTime": {
     "end_time": "2025-08-26T08:11:24.674437Z",
     "start_time": "2025-08-26T08:11:24.013327Z"
    }
   },
   "cell_type": "code",
   "source": [
    "t = np.random.random((3, 3))\n",
    "print(t)\n",
    "t.dtype"
   ],
   "id": "190510290854c723",
   "outputs": [
    {
     "name": "stdout",
     "output_type": "stream",
     "text": [
      "[[0.03741016 0.84117417 0.22647729]\n",
      " [0.39379369 0.5665942  0.30664526]\n",
      " [0.55859361 0.54118377 0.8123615 ]]\n"
     ]
    },
    {
     "data": {
      "text/plain": [
       "dtype('float64')"
      ]
     },
     "execution_count": 22,
     "metadata": {},
     "output_type": "execute_result"
    }
   ],
   "execution_count": 22
  },
  {
   "metadata": {
    "ExecuteTime": {
     "end_time": "2025-08-26T08:12:23.145513Z",
     "start_time": "2025-08-26T08:12:23.141513Z"
    }
   },
   "cell_type": "code",
   "source": [
    "lista2 = [[5, 6], [7, 8]]\n",
    "print(lista2)"
   ],
   "id": "d8cd5423656c3054",
   "outputs": [
    {
     "name": "stdout",
     "output_type": "stream",
     "text": [
      "[[5, 6], [7, 8]]\n"
     ]
    }
   ],
   "execution_count": 23
  },
  {
   "metadata": {
    "ExecuteTime": {
     "end_time": "2025-08-26T08:12:45.780797Z",
     "start_time": "2025-08-26T08:12:45.775167Z"
    }
   },
   "cell_type": "code",
   "source": [
    "b = np.array(lista2)\n",
    "print(b)"
   ],
   "id": "2a4287e4e2429200",
   "outputs": [
    {
     "name": "stdout",
     "output_type": "stream",
     "text": [
      "[[5 6]\n",
      " [7 8]]\n"
     ]
    }
   ],
   "execution_count": 24
  },
  {
   "metadata": {
    "ExecuteTime": {
     "end_time": "2025-08-26T08:14:12.902215Z",
     "start_time": "2025-08-26T08:14:12.898218Z"
    }
   },
   "cell_type": "code",
   "source": [
    "# ravel() - spłaszczenie, zwraca nowy obiekt\n",
    "print(b.ravel())"
   ],
   "id": "9c534cfcb3fcb80b",
   "outputs": [
    {
     "name": "stdout",
     "output_type": "stream",
     "text": [
      "[5 6 7 8]\n"
     ]
    }
   ],
   "execution_count": 25
  },
  {
   "metadata": {
    "ExecuteTime": {
     "end_time": "2025-08-26T08:14:26.197702Z",
     "start_time": "2025-08-26T08:14:26.194138Z"
    }
   },
   "cell_type": "code",
   "source": "print(b[0])",
   "id": "d99e6282dfcc4d1f",
   "outputs": [
    {
     "name": "stdout",
     "output_type": "stream",
     "text": [
      "[5 6]\n"
     ]
    }
   ],
   "execution_count": 26
  },
  {
   "metadata": {
    "ExecuteTime": {
     "end_time": "2025-08-26T08:15:49.980473Z",
     "start_time": "2025-08-26T08:15:49.976436Z"
    }
   },
   "cell_type": "code",
   "source": [
    "print(b[0, 0])\n",
    "print(b[0, 1])"
   ],
   "id": "99e85e582f74f9f2",
   "outputs": [
    {
     "name": "stdout",
     "output_type": "stream",
     "text": [
      "5\n",
      "6\n"
     ]
    }
   ],
   "execution_count": 27
  },
  {
   "metadata": {
    "ExecuteTime": {
     "end_time": "2025-08-26T08:16:32.374699Z",
     "start_time": "2025-08-26T08:16:32.367698Z"
    }
   },
   "cell_type": "code",
   "source": "print(np.float64(21))",
   "id": "8bdaf7e93b33bdcf",
   "outputs": [
    {
     "name": "stdout",
     "output_type": "stream",
     "text": [
      "21.0\n"
     ]
    }
   ],
   "execution_count": 28
  },
  {
   "metadata": {
    "ExecuteTime": {
     "end_time": "2025-08-26T08:16:56.330889Z",
     "start_time": "2025-08-26T08:16:56.326891Z"
    }
   },
   "cell_type": "code",
   "source": "print(np.int64(22.0))",
   "id": "99be4803265f6fb7",
   "outputs": [
    {
     "name": "stdout",
     "output_type": "stream",
     "text": [
      "22\n"
     ]
    }
   ],
   "execution_count": 29
  },
  {
   "metadata": {
    "ExecuteTime": {
     "end_time": "2025-08-26T08:17:33.871055Z",
     "start_time": "2025-08-26T08:17:33.866535Z"
    }
   },
   "cell_type": "code",
   "source": "print(np.bool(21))",
   "id": "5c83cf86ad697963",
   "outputs": [
    {
     "name": "stdout",
     "output_type": "stream",
     "text": [
      "True\n"
     ]
    }
   ],
   "execution_count": 31
  },
  {
   "metadata": {
    "ExecuteTime": {
     "end_time": "2025-08-26T08:17:55.939622Z",
     "start_time": "2025-08-26T08:17:55.935805Z"
    }
   },
   "cell_type": "code",
   "source": "print(np.float64(True))",
   "id": "23eff559ded00434",
   "outputs": [
    {
     "name": "stdout",
     "output_type": "stream",
     "text": [
      "1.0\n"
     ]
    }
   ],
   "execution_count": 32
  },
  {
   "metadata": {
    "ExecuteTime": {
     "end_time": "2025-08-26T08:18:41.348180Z",
     "start_time": "2025-08-26T08:18:41.344174Z"
    }
   },
   "cell_type": "code",
   "source": [
    "arr = np.arange(1, 11, dtype=np.float64)  # z prawej zbiór otwarty\n",
    "print(arr)"
   ],
   "id": "b981c9274bd40f4",
   "outputs": [
    {
     "name": "stdout",
     "output_type": "stream",
     "text": [
      "[ 1.  2.  3.  4.  5.  6.  7.  8.  9. 10.]\n"
     ]
    }
   ],
   "execution_count": 34
  },
  {
   "metadata": {
    "ExecuteTime": {
     "end_time": "2025-08-26T08:19:08.870482Z",
     "start_time": "2025-08-26T08:19:08.866217Z"
    }
   },
   "cell_type": "code",
   "source": "arr.dtype",
   "id": "d42da89af1719999",
   "outputs": [
    {
     "data": {
      "text/plain": [
       "dtype('float64')"
      ]
     },
     "execution_count": 35,
     "metadata": {},
     "output_type": "execute_result"
    }
   ],
   "execution_count": 35
  },
  {
   "metadata": {
    "ExecuteTime": {
     "end_time": "2025-08-26T08:20:25.323405Z",
     "start_time": "2025-08-26T08:20:25.319431Z"
    }
   },
   "cell_type": "code",
   "source": [
    "# reshape() - zmiana kształtu\n",
    "arr = np.arange(12)\n",
    "print(arr)"
   ],
   "id": "470026758616dfb9",
   "outputs": [
    {
     "name": "stdout",
     "output_type": "stream",
     "text": [
      "[ 0  1  2  3  4  5  6  7  8  9 10 11]\n"
     ]
    }
   ],
   "execution_count": 36
  },
  {
   "metadata": {
    "ExecuteTime": {
     "end_time": "2025-08-26T08:21:31.704135Z",
     "start_time": "2025-08-26T08:21:31.699351Z"
    }
   },
   "cell_type": "code",
   "source": [
    "new_arr = arr.reshape(4, 3)\n",
    "new_arr"
   ],
   "id": "a5fe402782001e56",
   "outputs": [
    {
     "data": {
      "text/plain": [
       "array([[ 0,  1,  2],\n",
       "       [ 3,  4,  5],\n",
       "       [ 6,  7,  8],\n",
       "       [ 9, 10, 11]])"
      ]
     },
     "execution_count": 37,
     "metadata": {},
     "output_type": "execute_result"
    }
   ],
   "execution_count": 37
  },
  {
   "metadata": {
    "ExecuteTime": {
     "end_time": "2025-08-26T08:22:21.722283Z",
     "start_time": "2025-08-26T08:22:21.704963Z"
    }
   },
   "cell_type": "code",
   "source": [
    "new_arr = arr.reshape(3, 4)\n",
    "new_arr"
   ],
   "id": "529383c6fd9595e0",
   "outputs": [
    {
     "data": {
      "text/plain": [
       "array([[ 0,  1,  2,  3],\n",
       "       [ 4,  5,  6,  7],\n",
       "       [ 8,  9, 10, 11]])"
      ]
     },
     "execution_count": 39,
     "metadata": {},
     "output_type": "execute_result"
    }
   ],
   "execution_count": 39
  },
  {
   "metadata": {
    "ExecuteTime": {
     "end_time": "2025-08-26T08:22:56.630671Z",
     "start_time": "2025-08-26T08:22:56.606306Z"
    }
   },
   "cell_type": "code",
   "source": [
    "new_arr = arr.reshape(3, 5)\n",
    "new_arr"
   ],
   "id": "24d3569b2767a2a6",
   "outputs": [
    {
     "ename": "ValueError",
     "evalue": "cannot reshape array of size 12 into shape (3,5)",
     "output_type": "error",
     "traceback": [
      "\u001B[31m---------------------------------------------------------------------------\u001B[39m",
      "\u001B[31mValueError\u001B[39m                                Traceback (most recent call last)",
      "\u001B[36mCell\u001B[39m\u001B[36m \u001B[39m\u001B[32mIn[40]\u001B[39m\u001B[32m, line 1\u001B[39m\n\u001B[32m----> \u001B[39m\u001B[32m1\u001B[39m new_arr = \u001B[43marr\u001B[49m\u001B[43m.\u001B[49m\u001B[43mreshape\u001B[49m\u001B[43m(\u001B[49m\u001B[32;43m3\u001B[39;49m\u001B[43m,\u001B[49m\u001B[43m \u001B[49m\u001B[32;43m5\u001B[39;49m\u001B[43m)\u001B[49m\n\u001B[32m      2\u001B[39m new_arr\n",
      "\u001B[31mValueError\u001B[39m: cannot reshape array of size 12 into shape (3,5)"
     ]
    }
   ],
   "execution_count": 40
  },
  {
   "metadata": {
    "ExecuteTime": {
     "end_time": "2025-08-26T08:23:15.480447Z",
     "start_time": "2025-08-26T08:23:15.455387Z"
    }
   },
   "cell_type": "code",
   "source": [
    "new_arr = arr.reshape(3, 3)\n",
    "new_arr"
   ],
   "id": "dd0a6e32131e544e",
   "outputs": [
    {
     "ename": "ValueError",
     "evalue": "cannot reshape array of size 12 into shape (3,3)",
     "output_type": "error",
     "traceback": [
      "\u001B[31m---------------------------------------------------------------------------\u001B[39m",
      "\u001B[31mValueError\u001B[39m                                Traceback (most recent call last)",
      "\u001B[36mCell\u001B[39m\u001B[36m \u001B[39m\u001B[32mIn[41]\u001B[39m\u001B[32m, line 1\u001B[39m\n\u001B[32m----> \u001B[39m\u001B[32m1\u001B[39m new_arr = \u001B[43marr\u001B[49m\u001B[43m.\u001B[49m\u001B[43mreshape\u001B[49m\u001B[43m(\u001B[49m\u001B[32;43m3\u001B[39;49m\u001B[43m,\u001B[49m\u001B[43m \u001B[49m\u001B[32;43m3\u001B[39;49m\u001B[43m)\u001B[49m\n\u001B[32m      2\u001B[39m new_arr\n",
      "\u001B[31mValueError\u001B[39m: cannot reshape array of size 12 into shape (3,3)"
     ]
    }
   ],
   "execution_count": 41
  },
  {
   "metadata": {},
   "cell_type": "markdown",
   "source": [
    "ravel() - zwraca widok \\\n",
    "operacja na widoku \"tablicy\" wpłynie na zmiany oryginalnej tablicy"
   ],
   "id": "6c20d17ba1d1fe20"
  },
  {
   "metadata": {
    "ExecuteTime": {
     "end_time": "2025-08-26T08:24:57.224013Z",
     "start_time": "2025-08-26T08:24:57.219012Z"
    }
   },
   "cell_type": "code",
   "source": "print(new_arr.ravel())",
   "id": "4894a18443f308ab",
   "outputs": [
    {
     "name": "stdout",
     "output_type": "stream",
     "text": [
      "[ 0  1  2  3  4  5  6  7  8  9 10 11]\n"
     ]
    }
   ],
   "execution_count": 42
  },
  {
   "metadata": {},
   "cell_type": "markdown",
   "source": [
    "flatten() - spłąszcza ale robi kopię\\\n",
    "zmiany nie wpływają na oryginalną tablicę"
   ],
   "id": "ca07adfe6adc7985"
  },
  {
   "metadata": {
    "ExecuteTime": {
     "end_time": "2025-08-26T08:26:10.374927Z",
     "start_time": "2025-08-26T08:26:10.369404Z"
    }
   },
   "cell_type": "code",
   "source": "print(new_arr.flatten())",
   "id": "62b528ae38fc5538",
   "outputs": [
    {
     "name": "stdout",
     "output_type": "stream",
     "text": [
      "[ 0  1  2  3  4  5  6  7  8  9 10 11]\n"
     ]
    }
   ],
   "execution_count": 43
  },
  {
   "metadata": {
    "ExecuteTime": {
     "end_time": "2025-08-26T08:26:54.127518Z",
     "start_time": "2025-08-26T08:26:54.122997Z"
    }
   },
   "cell_type": "code",
   "source": [
    "flat = new_arr.flatten()\n",
    "rav = new_arr.ravel()"
   ],
   "id": "c929f75de8160555",
   "outputs": [],
   "execution_count": 44
  },
  {
   "metadata": {
    "ExecuteTime": {
     "end_time": "2025-08-26T08:27:12.857124Z",
     "start_time": "2025-08-26T08:27:12.854124Z"
    }
   },
   "cell_type": "code",
   "source": [
    "flat[0] = 999\n",
    "rav[1] = 888"
   ],
   "id": "9bd754d09ab69617",
   "outputs": [],
   "execution_count": 45
  },
  {
   "metadata": {
    "ExecuteTime": {
     "end_time": "2025-08-26T08:29:00.126736Z",
     "start_time": "2025-08-26T08:29:00.121737Z"
    }
   },
   "cell_type": "code",
   "source": "print(new_arr)  # oryginalna tablica została zmieniona, rav zamienił element",
   "id": "1dbede3c9957dbd2",
   "outputs": [
    {
     "name": "stdout",
     "output_type": "stream",
     "text": [
      "[[  0 888   2   3]\n",
      " [  4   5   6   7]\n",
      " [  8   9  10  11]]\n"
     ]
    }
   ],
   "execution_count": 47
  },
  {
   "metadata": {},
   "cell_type": "markdown",
   "source": "transpose() - zamienia osie\n",
   "id": "cc6b86ac5d618df2"
  },
  {
   "metadata": {
    "ExecuteTime": {
     "end_time": "2025-08-26T08:29:51.562345Z",
     "start_time": "2025-08-26T08:29:51.557342Z"
    }
   },
   "cell_type": "code",
   "outputs": [
    {
     "name": "stdout",
     "output_type": "stream",
     "text": [
      "[[  0   4   8]\n",
      " [888   5   9]\n",
      " [  2   6  10]\n",
      " [  3   7  11]]\n"
     ]
    }
   ],
   "execution_count": 48,
   "source": "print(new_arr.transpose())",
   "id": "51f43f4ac11abfb9"
  },
  {
   "metadata": {},
   "cell_type": "markdown",
   "source": [
    "resize() - zmienia rozmiar tablicy\\\n",
    "zmienia oryginalną tablicę (in-plce)\\\n",
    "brakujące elementy uzupełnia zerami"
   ],
   "id": "9ec9b0c4a06bcd37"
  },
  {
   "metadata": {
    "ExecuteTime": {
     "end_time": "2025-08-26T08:31:52.234529Z",
     "start_time": "2025-08-26T08:31:52.229922Z"
    }
   },
   "cell_type": "code",
   "source": [
    "new_arr.resize(1, 12)\n",
    "print(new_arr)"
   ],
   "id": "cfb723a904a5b290",
   "outputs": [
    {
     "name": "stdout",
     "output_type": "stream",
     "text": [
      "[[  0 888   2   3   4   5   6   7   8   9  10  11]]\n"
     ]
    }
   ],
   "execution_count": 49
  },
  {
   "metadata": {
    "ExecuteTime": {
     "end_time": "2025-08-26T08:33:11.549798Z",
     "start_time": "2025-08-26T08:33:11.546320Z"
    }
   },
   "cell_type": "code",
   "source": [
    "arr1 = np.arange(1, 10).reshape(3, 3)\n",
    "print(arr1)"
   ],
   "id": "9de4826b3e3b251d",
   "outputs": [
    {
     "name": "stdout",
     "output_type": "stream",
     "text": [
      "[[1 2 3]\n",
      " [4 5 6]\n",
      " [7 8 9]]\n"
     ]
    }
   ],
   "execution_count": 50
  },
  {
   "metadata": {
    "ExecuteTime": {
     "end_time": "2025-08-26T08:33:29.335677Z",
     "start_time": "2025-08-26T08:33:29.331676Z"
    }
   },
   "cell_type": "code",
   "source": "print(np.__version__)",
   "id": "41d11c9e6d2e8883",
   "outputs": [
    {
     "name": "stdout",
     "output_type": "stream",
     "text": [
      "2.0.2\n"
     ]
    }
   ],
   "execution_count": 51
  },
  {
   "metadata": {},
   "cell_type": "markdown",
   "source": [
    "**Broadcasting** \\\n",
    "wykonuje operacje na wszystkich elementach macierzy"
   ],
   "id": "1e2d67f536625ece"
  },
  {
   "metadata": {
    "ExecuteTime": {
     "end_time": "2025-08-26T08:35:04.139834Z",
     "start_time": "2025-08-26T08:35:04.135962Z"
    }
   },
   "cell_type": "code",
   "outputs": [
    {
     "name": "stdout",
     "output_type": "stream",
     "text": [
      "[1, 2, 3, 1, 2, 3]\n"
     ]
    }
   ],
   "execution_count": 52,
   "source": [
    "lista = [1, 2, 3]\n",
    "print(2 * lista)"
   ],
   "id": "6fcada39bffd6593"
  },
  {
   "metadata": {
    "ExecuteTime": {
     "end_time": "2025-08-26T08:36:32.000822Z",
     "start_time": "2025-08-26T08:36:31.996823Z"
    }
   },
   "cell_type": "code",
   "source": [
    "# przykłąd broadcastingu w numpy\n",
    "arr2 = 2 * arr1\n",
    "print(arr2)"
   ],
   "id": "965f31631a2e5c81",
   "outputs": [
    {
     "name": "stdout",
     "output_type": "stream",
     "text": [
      "[[ 2  4  6]\n",
      " [ 8 10 12]\n",
      " [14 16 18]]\n"
     ]
    }
   ],
   "execution_count": 53
  },
  {
   "metadata": {
    "ExecuteTime": {
     "end_time": "2025-08-26T08:40:12.861452Z",
     "start_time": "2025-08-26T08:40:12.856766Z"
    }
   },
   "cell_type": "code",
   "source": [
    "arrx = arr1 + arr2\n",
    "print(arrx)"
   ],
   "id": "334b817fee78aafe",
   "outputs": [
    {
     "name": "stdout",
     "output_type": "stream",
     "text": [
      "[[ 3  6  9]\n",
      " [12 15 18]\n",
      " [21 24 27]]\n"
     ]
    }
   ],
   "execution_count": 55
  },
  {
   "metadata": {},
   "cell_type": "markdown",
   "source": [
    "### Zasady broadcastingu\n",
    "wymiary muszą byc zgodne\n",
    "1. Dwa wymiary są zgodne jeśli:\n",
    "    sa równe, lub\n",
    "    jeden z nich ma rozmiar 1\n",
    "2. Jeśli nie spełniają tych warunków -> ValueError"
   ],
   "id": "fde0a9dcc2dd5642"
  }
 ],
 "metadata": {
  "kernelspec": {
   "display_name": "Python 3",
   "language": "python",
   "name": "python3"
  },
  "language_info": {
   "codemirror_mode": {
    "name": "ipython",
    "version": 2
   },
   "file_extension": ".py",
   "mimetype": "text/x-python",
   "name": "python",
   "nbconvert_exporter": "python",
   "pygments_lexer": "ipython2",
   "version": "2.7.6"
  }
 },
 "nbformat": 4,
 "nbformat_minor": 5
}
