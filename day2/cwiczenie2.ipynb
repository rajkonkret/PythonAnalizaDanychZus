{
 "cells": [
  {
   "metadata": {},
   "cell_type": "markdown",
   "source": "### pliki csv",
   "id": "49fd2a27723deb75"
  },
  {
   "metadata": {
    "collapsed": true,
    "ExecuteTime": {
     "end_time": "2025-08-26T10:51:07.669612Z",
     "start_time": "2025-08-26T10:51:07.663620Z"
    }
   },
   "cell_type": "code",
   "source": [
    "import numpy as np\n",
    "\n",
    "input_stock_price_array = np.genfromtxt('data/AAPL_stock_price_example.csv',\n",
    "                                        delimiter=\",\",\n",
    "                                        names=True, # traktuj pierwszy wiersz jako nazwy kolumn\n",
    "                                        usecols=(1,))"
   ],
   "id": "a50b75d1f30230cb",
   "outputs": [],
   "execution_count": 10
  },
  {
   "metadata": {
    "ExecuteTime": {
     "end_time": "2025-08-26T10:51:09.138725Z",
     "start_time": "2025-08-26T10:51:09.135731Z"
    }
   },
   "cell_type": "code",
   "source": "print(input_stock_price_array.size)",
   "id": "bfbd1ac9e5f28b91",
   "outputs": [
    {
     "name": "stdout",
     "output_type": "stream",
     "text": [
      "229\n"
     ]
    }
   ],
   "execution_count": 11
  },
  {
   "metadata": {
    "ExecuteTime": {
     "end_time": "2025-08-26T10:51:41.226609Z",
     "start_time": "2025-08-26T10:51:41.222483Z"
    }
   },
   "cell_type": "code",
   "source": "print(input_stock_price_array[:5])",
   "id": "98efac8fe4cb97fe",
   "outputs": [
    {
     "name": "stdout",
     "output_type": "stream",
     "text": [
      "[(157.919998,) (142.190002,) (148.259995,) (147.929993,) (150.75    ,)]\n"
     ]
    }
   ],
   "execution_count": 12
  },
  {
   "metadata": {
    "ExecuteTime": {
     "end_time": "2025-08-26T10:52:13.512354Z",
     "start_time": "2025-08-26T10:52:13.504826Z"
    }
   },
   "cell_type": "code",
   "source": "input_stock_price_array.dtype",
   "id": "aa980a1457587aab",
   "outputs": [
    {
     "data": {
      "text/plain": [
       "dtype([('Close', '<f8')])"
      ]
     },
     "execution_count": 13,
     "metadata": {},
     "output_type": "execute_result"
    }
   ],
   "execution_count": 13
  },
  {
   "metadata": {
    "ExecuteTime": {
     "end_time": "2025-08-26T10:55:16.148121Z",
     "start_time": "2025-08-26T10:55:16.141970Z"
    }
   },
   "cell_type": "code",
   "source": [
    "# sortujemy tablice od największych do najmniejszych [::-1]\n",
    "sorted_stock_price = np.sort(input_stock_price_array)[::-1]\n",
    "print(sorted_stock_price)"
   ],
   "id": "26ab815eaf658229",
   "outputs": [
    {
     "name": "stdout",
     "output_type": "stream",
     "text": [
      "[(267.100006,) (266.369995,) (266.290009,) (265.76001 ,) (264.470001,)\n",
      " (264.290009,) (263.190002,) (262.640015,) (262.200012,) (262.01001 ,)\n",
      " (261.959991,) (261.779999,) (260.140015,) (259.429993,) (257.5     ,)\n",
      " (257.23999 ,) (257.130005,) (255.820007,) (249.050003,) (248.759995,)\n",
      " (246.580002,) (243.580002,) (243.289993,) (243.259995,) (243.179993,)\n",
      " (240.509995,) (239.960007,) (236.410004,) (236.210007,) (235.869995,)\n",
      " (235.320007,) (235.279999,) (234.369995,) (230.089996,) (227.059998,)\n",
      " (227.029999,) (227.009995,) (224.589996,) (224.399994,) (223.970001,)\n",
      " (223.589996,) (223.089996,) (222.770004,) (221.029999,) (220.960007,)\n",
      " (220.820007,) (220.699997,) (219.899994,) (219.889999,) (218.960007,)\n",
      " (218.820007,) (218.75    ,) (218.720001,) (217.729996,) (217.679993,)\n",
      " (216.699997,) (214.169998,) (213.279999,) (213.259995,) (213.039993,)\n",
      " (212.639999,) (212.460007,) (211.75    ,) (210.520004,) (210.360001,)\n",
      " (210.350006,) (209.679993,) (209.190002,) (209.149994,) (209.009995,)\n",
      " (208.970001,) (208.839996,) (208.779999,) (208.740005,) (208.669998,)\n",
      " (208.479996,) (208.429993,) (207.740005,) (207.479996,) (207.220001,)\n",
      " (207.160004,) (207.020004,) (206.5     ,) (206.490005,) (205.699997,)\n",
      " (205.660004,) (205.529999,) (205.279999,) (205.210007,) (204.610001,)\n",
      " (204.529999,) (204.5     ,) (204.410004,) (204.300003,) (204.229996,)\n",
      " (204.160004,) (204.020004,) (203.860001,) (203.429993,) (203.350006,)\n",
      " (203.300003,) (203.229996,) (203.130005,) (202.899994,) (202.860001,)\n",
      " (202.75    ,) (202.729996,) (202.639999,) (202.589996,) (201.75    ,)\n",
      " (201.740005,) (201.550003,) (201.240005,) (200.990005,) (200.720001,)\n",
      " (200.669998,) (200.619995,) (200.479996,) (200.100006,) (200.020004,)\n",
      " (199.800003,) (199.740005,) (199.5     ,) (199.460007,) (199.25    ,)\n",
      " (199.229996,) (199.039993,) (198.949997,) (198.869995,) (198.779999,)\n",
      " (198.580002,) (198.449997,) (197.919998,) (197.869995,) (197.179993,)\n",
      " (197.      ,) (197.      ,) (195.690002,) (195.570007,) (195.350006,)\n",
      " (195.089996,) (194.809998,) (194.190002,) (194.149994,) (194.020004,)\n",
      " (193.889999,) (193.339996,) (192.740005,) (192.580002,) (191.240005,)\n",
      " (191.050003,) (190.919998,) (190.149994,) (190.080002,) (189.949997,)\n",
      " (189.      ,) (188.740005,) (188.720001,) (188.660004,) (188.470001,)\n",
      " (188.160004,) (188.020004,) (186.789993,) (186.600006,) (186.529999,)\n",
      " (186.119995,) (185.720001,) (185.220001,) (183.729996,) (183.089996,)\n",
      " (182.779999,) (182.539993,) (181.710007,) (180.910004,) (179.660004,)\n",
      " (179.639999,) (178.970001,) (178.899994,) (178.300003,) (178.229996,)\n",
      " (177.380005,) (175.850006,) (175.529999,) (175.070007,) (174.970001,)\n",
      " (174.869995,) (174.520004,) (174.330002,) (174.240005,) (174.229996,)\n",
      " (174.179993,) (173.300003,) (173.149994,) (172.970001,) (172.910004,)\n",
      " (172.5     ,) (172.029999,) (171.25    ,) (171.059998,) (170.940002,)\n",
      " (170.929993,) (170.889999,) (170.800003,) (170.419998,) (170.410004,)\n",
      " (170.179993,) (169.429993,) (166.520004,) (166.440002,) (165.25    ,)\n",
      " (157.919998,) (157.759995,) (156.820007,) (156.300003,) (155.860001,)\n",
      " (154.940002,) (154.679993,) (153.919998,) (153.800003,) (153.309998,)\n",
      " (153.300003,) (153.070007,) (152.699997,) (152.289993,) (150.75    ,)\n",
      " (150.      ,) (148.259995,) (147.929993,) (142.190002,)]\n"
     ]
    }
   ],
   "execution_count": 16
  },
  {
   "metadata": {
    "ExecuteTime": {
     "end_time": "2025-08-26T10:55:30.154056Z",
     "start_time": "2025-08-26T10:55:30.150656Z"
    }
   },
   "cell_type": "code",
   "source": "print(sorted_stock_price[0])",
   "id": "a703f51a5fdc6bf4",
   "outputs": [
    {
     "name": "stdout",
     "output_type": "stream",
     "text": [
      "(267.100006,)\n"
     ]
    }
   ],
   "execution_count": 17
  },
  {
   "metadata": {
    "ExecuteTime": {
     "end_time": "2025-08-26T11:02:00.546591Z",
     "start_time": "2025-08-26T11:02:00.531437Z"
    }
   },
   "cell_type": "code",
   "source": [
    "temp_array = []\n",
    "# context manager\n",
    "with open('data/AAPL_stock_price_example.csv', \"r\") as input_file: # filehandler\n",
    "    all_lines = input_file.readlines()\n",
    "    for each_line in all_lines:\n",
    "        for value_from_line in each_line.rsplit(',')[1:]:\n",
    "            clean_value = value_from_line.replace(\"\\n\", \"\")\n",
    "            temp_array.append(clean_value)"
   ],
   "id": "805d6eedcaf54dfd",
   "outputs": [],
   "execution_count": 18
  },
  {
   "metadata": {
    "ExecuteTime": {
     "end_time": "2025-08-26T11:02:12.685335Z",
     "start_time": "2025-08-26T11:02:12.680740Z"
    }
   },
   "cell_type": "code",
   "source": "print(temp_array[:5])",
   "id": "49ff81075c8d8e33",
   "outputs": [
    {
     "name": "stdout",
     "output_type": "stream",
     "text": [
      "['Close', '157.919998', '142.190002', '148.259995', '147.929993']\n"
     ]
    }
   ],
   "execution_count": 19
  },
  {
   "metadata": {
    "ExecuteTime": {
     "end_time": "2025-08-26T11:02:58.339155Z",
     "start_time": "2025-08-26T11:02:58.335603Z"
    }
   },
   "cell_type": "code",
   "source": "print(len(temp_array)) # długość tablicy",
   "id": "9e98c5c336fa0b2",
   "outputs": [
    {
     "name": "stdout",
     "output_type": "stream",
     "text": [
      "230\n"
     ]
    }
   ],
   "execution_count": 20
  },
  {
   "metadata": {
    "ExecuteTime": {
     "end_time": "2025-08-26T11:03:42.012462Z",
     "start_time": "2025-08-26T11:03:42.007860Z"
    }
   },
   "cell_type": "code",
   "source": [
    "temp_array = np.delete(temp_array, 0) # usunięcie wiersza o indeksie 0\n",
    "print(temp_array.size)"
   ],
   "id": "a45bc958be14fe6a",
   "outputs": [
    {
     "name": "stdout",
     "output_type": "stream",
     "text": [
      "229\n"
     ]
    }
   ],
   "execution_count": 21
  },
  {
   "metadata": {
    "ExecuteTime": {
     "end_time": "2025-08-26T11:03:58.698880Z",
     "start_time": "2025-08-26T11:03:58.695096Z"
    }
   },
   "cell_type": "code",
   "source": "print(temp_array[0])",
   "id": "ead8ae52f5105b3d",
   "outputs": [
    {
     "name": "stdout",
     "output_type": "stream",
     "text": [
      "157.919998\n"
     ]
    }
   ],
   "execution_count": 22
  },
  {
   "metadata": {
    "ExecuteTime": {
     "end_time": "2025-08-26T11:04:31.730580Z",
     "start_time": "2025-08-26T11:04:31.726830Z"
    }
   },
   "cell_type": "code",
   "source": "print(temp_array.dtype)",
   "id": "2332a4d6b3e52d0a",
   "outputs": [
    {
     "name": "stdout",
     "output_type": "stream",
     "text": [
      "<U10\n"
     ]
    }
   ],
   "execution_count": 23
  },
  {
   "metadata": {},
   "cell_type": "markdown",
   "source": "<U10 - znaki unicode, max długośc 10 znaków, tekst",
   "id": "dd653766e306a09f"
  },
  {
   "metadata": {
    "ExecuteTime": {
     "end_time": "2025-08-26T11:06:32.543468Z",
     "start_time": "2025-08-26T11:06:32.540029Z"
    }
   },
   "cell_type": "code",
   "source": [
    "# zamiana na float64\n",
    "input_stock_price = temp_array.astype(float)\n",
    "print(input_stock_price[:5])"
   ],
   "id": "70ecb02039a12244",
   "outputs": [
    {
     "name": "stdout",
     "output_type": "stream",
     "text": [
      "[157.919998 142.190002 148.259995 147.929993 150.75    ]\n"
     ]
    }
   ],
   "execution_count": 26
  },
  {
   "metadata": {
    "ExecuteTime": {
     "end_time": "2025-08-26T11:06:33.833279Z",
     "start_time": "2025-08-26T11:06:33.829747Z"
    }
   },
   "cell_type": "code",
   "source": "print(input_stock_price.dtype)",
   "id": "fb0a5a5eea0e0aaf",
   "outputs": [
    {
     "name": "stdout",
     "output_type": "stream",
     "text": [
      "float64\n"
     ]
    }
   ],
   "execution_count": 27
  },
  {
   "metadata": {
    "ExecuteTime": {
     "end_time": "2025-08-26T11:07:26.098961Z",
     "start_time": "2025-08-26T11:07:26.042007Z"
    }
   },
   "cell_type": "code",
   "source": [
    "sorted_stock_price_2 = np.sort(input_stock_price)[::-1]\n",
    "print(sorted_stock_price_2[0])"
   ],
   "id": "6f10b938351267b5",
   "outputs": [
    {
     "name": "stdout",
     "output_type": "stream",
     "text": [
      "267.100006\n"
     ]
    }
   ],
   "execution_count": 28
  }
 ],
 "metadata": {
  "kernelspec": {
   "display_name": "Python 3",
   "language": "python",
   "name": "python3"
  },
  "language_info": {
   "codemirror_mode": {
    "name": "ipython",
    "version": 2
   },
   "file_extension": ".py",
   "mimetype": "text/x-python",
   "name": "python",
   "nbconvert_exporter": "python",
   "pygments_lexer": "ipython2",
   "version": "2.7.6"
  }
 },
 "nbformat": 4,
 "nbformat_minor": 5
}
